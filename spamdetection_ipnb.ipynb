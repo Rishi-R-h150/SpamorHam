{
  "nbformat": 4,
  "nbformat_minor": 0,
  "metadata": {
    "colab": {
      "provenance": [],
      "gpuType": "T4",
      "authorship_tag": "ABX9TyOwjttsMovEMeQzglEZampQ",
      "include_colab_link": true
    },
    "kernelspec": {
      "name": "python3",
      "display_name": "Python 3"
    },
    "language_info": {
      "name": "python"
    },
    "accelerator": "GPU"
  },
  "cells": [
    {
      "cell_type": "markdown",
      "metadata": {
        "id": "view-in-github",
        "colab_type": "text"
      },
      "source": [
        "<a href=\"https://colab.research.google.com/github/Rishi-R-h150/SpamorHam/blob/main/spamdetection_ipnb.ipynb\" target=\"_parent\"><img src=\"https://colab.research.google.com/assets/colab-badge.svg\" alt=\"Open In Colab\"/></a>"
      ]
    },
    {
      "cell_type": "code",
      "execution_count": null,
      "metadata": {
        "id": "yEXI9J8kCKpS",
        "colab": {
          "base_uri": "https://localhost:8080/",
          "height": 366
        },
        "outputId": "c6984aa2-7f78-464f-c093-74cd6e2b87f3"
      },
      "outputs": [
        {
          "output_type": "error",
          "ename": "FileNotFoundError",
          "evalue": "[Errno 2] No such file or directory: '/content/archive (4).zip'",
          "traceback": [
            "\u001b[0;31m---------------------------------------------------------------------------\u001b[0m",
            "\u001b[0;31mFileNotFoundError\u001b[0m                         Traceback (most recent call last)",
            "\u001b[0;32m<ipython-input-1-20bb6aa286e4>\u001b[0m in \u001b[0;36m<cell line: 3>\u001b[0;34m()\u001b[0m\n\u001b[1;32m      1\u001b[0m \u001b[0mfilename\u001b[0m\u001b[0;34m=\u001b[0m\u001b[0;34m\"/content/archive (4).zip\"\u001b[0m\u001b[0;34m\u001b[0m\u001b[0;34m\u001b[0m\u001b[0m\n\u001b[1;32m      2\u001b[0m \u001b[0;32mimport\u001b[0m \u001b[0mzipfile\u001b[0m\u001b[0;34m\u001b[0m\u001b[0;34m\u001b[0m\u001b[0m\n\u001b[0;32m----> 3\u001b[0;31m \u001b[0mzip_ref\u001b[0m \u001b[0;34m=\u001b[0m \u001b[0mzipfile\u001b[0m\u001b[0;34m.\u001b[0m\u001b[0mZipFile\u001b[0m\u001b[0;34m(\u001b[0m\u001b[0mfilename\u001b[0m\u001b[0;34m,\u001b[0m \u001b[0;34m\"r\"\u001b[0m\u001b[0;34m)\u001b[0m\u001b[0;34m\u001b[0m\u001b[0;34m\u001b[0m\u001b[0m\n\u001b[0m\u001b[1;32m      4\u001b[0m \u001b[0mzip_ref\u001b[0m\u001b[0;34m.\u001b[0m\u001b[0mextractall\u001b[0m\u001b[0;34m(\u001b[0m\u001b[0;34m)\u001b[0m\u001b[0;34m\u001b[0m\u001b[0;34m\u001b[0m\u001b[0m\n\u001b[1;32m      5\u001b[0m \u001b[0mzip_ref\u001b[0m\u001b[0;34m.\u001b[0m\u001b[0mclose\u001b[0m\u001b[0;34m(\u001b[0m\u001b[0;34m)\u001b[0m\u001b[0;34m\u001b[0m\u001b[0;34m\u001b[0m\u001b[0m\n",
            "\u001b[0;32m/usr/lib/python3.10/zipfile.py\u001b[0m in \u001b[0;36m__init__\u001b[0;34m(self, file, mode, compression, allowZip64, compresslevel, strict_timestamps)\u001b[0m\n\u001b[1;32m   1249\u001b[0m             \u001b[0;32mwhile\u001b[0m \u001b[0;32mTrue\u001b[0m\u001b[0;34m:\u001b[0m\u001b[0;34m\u001b[0m\u001b[0;34m\u001b[0m\u001b[0m\n\u001b[1;32m   1250\u001b[0m                 \u001b[0;32mtry\u001b[0m\u001b[0;34m:\u001b[0m\u001b[0;34m\u001b[0m\u001b[0;34m\u001b[0m\u001b[0m\n\u001b[0;32m-> 1251\u001b[0;31m                     \u001b[0mself\u001b[0m\u001b[0;34m.\u001b[0m\u001b[0mfp\u001b[0m \u001b[0;34m=\u001b[0m \u001b[0mio\u001b[0m\u001b[0;34m.\u001b[0m\u001b[0mopen\u001b[0m\u001b[0;34m(\u001b[0m\u001b[0mfile\u001b[0m\u001b[0;34m,\u001b[0m \u001b[0mfilemode\u001b[0m\u001b[0;34m)\u001b[0m\u001b[0;34m\u001b[0m\u001b[0;34m\u001b[0m\u001b[0m\n\u001b[0m\u001b[1;32m   1252\u001b[0m                 \u001b[0;32mexcept\u001b[0m \u001b[0mOSError\u001b[0m\u001b[0;34m:\u001b[0m\u001b[0;34m\u001b[0m\u001b[0;34m\u001b[0m\u001b[0m\n\u001b[1;32m   1253\u001b[0m                     \u001b[0;32mif\u001b[0m \u001b[0mfilemode\u001b[0m \u001b[0;32min\u001b[0m \u001b[0mmodeDict\u001b[0m\u001b[0;34m:\u001b[0m\u001b[0;34m\u001b[0m\u001b[0;34m\u001b[0m\u001b[0m\n",
            "\u001b[0;31mFileNotFoundError\u001b[0m: [Errno 2] No such file or directory: '/content/archive (4).zip'"
          ]
        }
      ],
      "source": [
        "filename=\"/content/archive (4).zip\"\n",
        "import zipfile\n",
        "zip_ref = zipfile.ZipFile(filename, \"r\")\n",
        "zip_ref.extractall()\n",
        "zip_ref.close()"
      ]
    },
    {
      "cell_type": "code",
      "source": [
        "import pandas as pd\n",
        "train_df = pd.read_csv(\"/content/spam_or_not_spam.csv\")"
      ],
      "metadata": {
        "id": "KWUx0HO1Dsv7"
      },
      "execution_count": null,
      "outputs": []
    },
    {
      "cell_type": "code",
      "source": [
        "train_df.head()"
      ],
      "metadata": {
        "colab": {
          "base_uri": "https://localhost:8080/",
          "height": 206
        },
        "id": "07-Tl8NOEZdC",
        "outputId": "7985608b-c7ac-4f09-970b-45838509830e"
      },
      "execution_count": null,
      "outputs": [
        {
          "output_type": "execute_result",
          "data": {
            "text/plain": [
              "                                               email  label\n",
              "0   date wed NUMBER aug NUMBER NUMBER NUMBER NUMB...      0\n",
              "1  martin a posted tassos papadopoulos the greek ...      0\n",
              "2  man threatens explosion in moscow thursday aug...      0\n",
              "3  klez the virus that won t die already the most...      0\n",
              "4   in adding cream to spaghetti carbonara which ...      0"
            ],
            "text/html": [
              "\n",
              "  <div id=\"df-18619e19-a07c-4069-a520-47e4695d6d47\" class=\"colab-df-container\">\n",
              "    <div>\n",
              "<style scoped>\n",
              "    .dataframe tbody tr th:only-of-type {\n",
              "        vertical-align: middle;\n",
              "    }\n",
              "\n",
              "    .dataframe tbody tr th {\n",
              "        vertical-align: top;\n",
              "    }\n",
              "\n",
              "    .dataframe thead th {\n",
              "        text-align: right;\n",
              "    }\n",
              "</style>\n",
              "<table border=\"1\" class=\"dataframe\">\n",
              "  <thead>\n",
              "    <tr style=\"text-align: right;\">\n",
              "      <th></th>\n",
              "      <th>email</th>\n",
              "      <th>label</th>\n",
              "    </tr>\n",
              "  </thead>\n",
              "  <tbody>\n",
              "    <tr>\n",
              "      <th>0</th>\n",
              "      <td>date wed NUMBER aug NUMBER NUMBER NUMBER NUMB...</td>\n",
              "      <td>0</td>\n",
              "    </tr>\n",
              "    <tr>\n",
              "      <th>1</th>\n",
              "      <td>martin a posted tassos papadopoulos the greek ...</td>\n",
              "      <td>0</td>\n",
              "    </tr>\n",
              "    <tr>\n",
              "      <th>2</th>\n",
              "      <td>man threatens explosion in moscow thursday aug...</td>\n",
              "      <td>0</td>\n",
              "    </tr>\n",
              "    <tr>\n",
              "      <th>3</th>\n",
              "      <td>klez the virus that won t die already the most...</td>\n",
              "      <td>0</td>\n",
              "    </tr>\n",
              "    <tr>\n",
              "      <th>4</th>\n",
              "      <td>in adding cream to spaghetti carbonara which ...</td>\n",
              "      <td>0</td>\n",
              "    </tr>\n",
              "  </tbody>\n",
              "</table>\n",
              "</div>\n",
              "    <div class=\"colab-df-buttons\">\n",
              "\n",
              "  <div class=\"colab-df-container\">\n",
              "    <button class=\"colab-df-convert\" onclick=\"convertToInteractive('df-18619e19-a07c-4069-a520-47e4695d6d47')\"\n",
              "            title=\"Convert this dataframe to an interactive table.\"\n",
              "            style=\"display:none;\">\n",
              "\n",
              "  <svg xmlns=\"http://www.w3.org/2000/svg\" height=\"24px\" viewBox=\"0 -960 960 960\">\n",
              "    <path d=\"M120-120v-720h720v720H120Zm60-500h600v-160H180v160Zm220 220h160v-160H400v160Zm0 220h160v-160H400v160ZM180-400h160v-160H180v160Zm440 0h160v-160H620v160ZM180-180h160v-160H180v160Zm440 0h160v-160H620v160Z\"/>\n",
              "  </svg>\n",
              "    </button>\n",
              "\n",
              "  <style>\n",
              "    .colab-df-container {\n",
              "      display:flex;\n",
              "      gap: 12px;\n",
              "    }\n",
              "\n",
              "    .colab-df-convert {\n",
              "      background-color: #E8F0FE;\n",
              "      border: none;\n",
              "      border-radius: 50%;\n",
              "      cursor: pointer;\n",
              "      display: none;\n",
              "      fill: #1967D2;\n",
              "      height: 32px;\n",
              "      padding: 0 0 0 0;\n",
              "      width: 32px;\n",
              "    }\n",
              "\n",
              "    .colab-df-convert:hover {\n",
              "      background-color: #E2EBFA;\n",
              "      box-shadow: 0px 1px 2px rgba(60, 64, 67, 0.3), 0px 1px 3px 1px rgba(60, 64, 67, 0.15);\n",
              "      fill: #174EA6;\n",
              "    }\n",
              "\n",
              "    .colab-df-buttons div {\n",
              "      margin-bottom: 4px;\n",
              "    }\n",
              "\n",
              "    [theme=dark] .colab-df-convert {\n",
              "      background-color: #3B4455;\n",
              "      fill: #D2E3FC;\n",
              "    }\n",
              "\n",
              "    [theme=dark] .colab-df-convert:hover {\n",
              "      background-color: #434B5C;\n",
              "      box-shadow: 0px 1px 3px 1px rgba(0, 0, 0, 0.15);\n",
              "      filter: drop-shadow(0px 1px 2px rgba(0, 0, 0, 0.3));\n",
              "      fill: #FFFFFF;\n",
              "    }\n",
              "  </style>\n",
              "\n",
              "    <script>\n",
              "      const buttonEl =\n",
              "        document.querySelector('#df-18619e19-a07c-4069-a520-47e4695d6d47 button.colab-df-convert');\n",
              "      buttonEl.style.display =\n",
              "        google.colab.kernel.accessAllowed ? 'block' : 'none';\n",
              "\n",
              "      async function convertToInteractive(key) {\n",
              "        const element = document.querySelector('#df-18619e19-a07c-4069-a520-47e4695d6d47');\n",
              "        const dataTable =\n",
              "          await google.colab.kernel.invokeFunction('convertToInteractive',\n",
              "                                                    [key], {});\n",
              "        if (!dataTable) return;\n",
              "\n",
              "        const docLinkHtml = 'Like what you see? Visit the ' +\n",
              "          '<a target=\"_blank\" href=https://colab.research.google.com/notebooks/data_table.ipynb>data table notebook</a>'\n",
              "          + ' to learn more about interactive tables.';\n",
              "        element.innerHTML = '';\n",
              "        dataTable['output_type'] = 'display_data';\n",
              "        await google.colab.output.renderOutput(dataTable, element);\n",
              "        const docLink = document.createElement('div');\n",
              "        docLink.innerHTML = docLinkHtml;\n",
              "        element.appendChild(docLink);\n",
              "      }\n",
              "    </script>\n",
              "  </div>\n",
              "\n",
              "\n",
              "<div id=\"df-b64bc028-ae86-46e0-a34d-814ea8f2c0e8\">\n",
              "  <button class=\"colab-df-quickchart\" onclick=\"quickchart('df-b64bc028-ae86-46e0-a34d-814ea8f2c0e8')\"\n",
              "            title=\"Suggest charts\"\n",
              "            style=\"display:none;\">\n",
              "\n",
              "<svg xmlns=\"http://www.w3.org/2000/svg\" height=\"24px\"viewBox=\"0 0 24 24\"\n",
              "     width=\"24px\">\n",
              "    <g>\n",
              "        <path d=\"M19 3H5c-1.1 0-2 .9-2 2v14c0 1.1.9 2 2 2h14c1.1 0 2-.9 2-2V5c0-1.1-.9-2-2-2zM9 17H7v-7h2v7zm4 0h-2V7h2v10zm4 0h-2v-4h2v4z\"/>\n",
              "    </g>\n",
              "</svg>\n",
              "  </button>\n",
              "\n",
              "<style>\n",
              "  .colab-df-quickchart {\n",
              "      --bg-color: #E8F0FE;\n",
              "      --fill-color: #1967D2;\n",
              "      --hover-bg-color: #E2EBFA;\n",
              "      --hover-fill-color: #174EA6;\n",
              "      --disabled-fill-color: #AAA;\n",
              "      --disabled-bg-color: #DDD;\n",
              "  }\n",
              "\n",
              "  [theme=dark] .colab-df-quickchart {\n",
              "      --bg-color: #3B4455;\n",
              "      --fill-color: #D2E3FC;\n",
              "      --hover-bg-color: #434B5C;\n",
              "      --hover-fill-color: #FFFFFF;\n",
              "      --disabled-bg-color: #3B4455;\n",
              "      --disabled-fill-color: #666;\n",
              "  }\n",
              "\n",
              "  .colab-df-quickchart {\n",
              "    background-color: var(--bg-color);\n",
              "    border: none;\n",
              "    border-radius: 50%;\n",
              "    cursor: pointer;\n",
              "    display: none;\n",
              "    fill: var(--fill-color);\n",
              "    height: 32px;\n",
              "    padding: 0;\n",
              "    width: 32px;\n",
              "  }\n",
              "\n",
              "  .colab-df-quickchart:hover {\n",
              "    background-color: var(--hover-bg-color);\n",
              "    box-shadow: 0 1px 2px rgba(60, 64, 67, 0.3), 0 1px 3px 1px rgba(60, 64, 67, 0.15);\n",
              "    fill: var(--button-hover-fill-color);\n",
              "  }\n",
              "\n",
              "  .colab-df-quickchart-complete:disabled,\n",
              "  .colab-df-quickchart-complete:disabled:hover {\n",
              "    background-color: var(--disabled-bg-color);\n",
              "    fill: var(--disabled-fill-color);\n",
              "    box-shadow: none;\n",
              "  }\n",
              "\n",
              "  .colab-df-spinner {\n",
              "    border: 2px solid var(--fill-color);\n",
              "    border-color: transparent;\n",
              "    border-bottom-color: var(--fill-color);\n",
              "    animation:\n",
              "      spin 1s steps(1) infinite;\n",
              "  }\n",
              "\n",
              "  @keyframes spin {\n",
              "    0% {\n",
              "      border-color: transparent;\n",
              "      border-bottom-color: var(--fill-color);\n",
              "      border-left-color: var(--fill-color);\n",
              "    }\n",
              "    20% {\n",
              "      border-color: transparent;\n",
              "      border-left-color: var(--fill-color);\n",
              "      border-top-color: var(--fill-color);\n",
              "    }\n",
              "    30% {\n",
              "      border-color: transparent;\n",
              "      border-left-color: var(--fill-color);\n",
              "      border-top-color: var(--fill-color);\n",
              "      border-right-color: var(--fill-color);\n",
              "    }\n",
              "    40% {\n",
              "      border-color: transparent;\n",
              "      border-right-color: var(--fill-color);\n",
              "      border-top-color: var(--fill-color);\n",
              "    }\n",
              "    60% {\n",
              "      border-color: transparent;\n",
              "      border-right-color: var(--fill-color);\n",
              "    }\n",
              "    80% {\n",
              "      border-color: transparent;\n",
              "      border-right-color: var(--fill-color);\n",
              "      border-bottom-color: var(--fill-color);\n",
              "    }\n",
              "    90% {\n",
              "      border-color: transparent;\n",
              "      border-bottom-color: var(--fill-color);\n",
              "    }\n",
              "  }\n",
              "</style>\n",
              "\n",
              "  <script>\n",
              "    async function quickchart(key) {\n",
              "      const quickchartButtonEl =\n",
              "        document.querySelector('#' + key + ' button');\n",
              "      quickchartButtonEl.disabled = true;  // To prevent multiple clicks.\n",
              "      quickchartButtonEl.classList.add('colab-df-spinner');\n",
              "      try {\n",
              "        const charts = await google.colab.kernel.invokeFunction(\n",
              "            'suggestCharts', [key], {});\n",
              "      } catch (error) {\n",
              "        console.error('Error during call to suggestCharts:', error);\n",
              "      }\n",
              "      quickchartButtonEl.classList.remove('colab-df-spinner');\n",
              "      quickchartButtonEl.classList.add('colab-df-quickchart-complete');\n",
              "    }\n",
              "    (() => {\n",
              "      let quickchartButtonEl =\n",
              "        document.querySelector('#df-b64bc028-ae86-46e0-a34d-814ea8f2c0e8 button');\n",
              "      quickchartButtonEl.style.display =\n",
              "        google.colab.kernel.accessAllowed ? 'block' : 'none';\n",
              "    })();\n",
              "  </script>\n",
              "</div>\n",
              "    </div>\n",
              "  </div>\n"
            ]
          },
          "metadata": {},
          "execution_count": 44
        }
      ]
    },
    {
      "cell_type": "code",
      "source": [
        "train_df_shuffled = train_df.sample(frac=1, random_state=42)\n",
        "train_df_shuffled.head()"
      ],
      "metadata": {
        "colab": {
          "base_uri": "https://localhost:8080/",
          "height": 206
        },
        "id": "1FAuAGjbEcLS",
        "outputId": "ca762f7a-8943-42d6-eb1a-11401016c969"
      },
      "execution_count": null,
      "outputs": [
        {
          "output_type": "execute_result",
          "data": {
            "text/plain": [
              "                                                  email  label\n",
              "4336  this is possible however using sa as a block c...      0\n",
              "584   the usual crud why do morons ranting and beati...      0\n",
              "240   near the end of his memoirs of extraordinary p...      0\n",
              "373   on sun NUMBER sep NUMBER joseph s barrera iii ...      0\n",
              "5207   take control of your computer with this top o...      1"
            ],
            "text/html": [
              "\n",
              "  <div id=\"df-f15c5fed-87dc-4d55-8b7a-f4da577a45ba\" class=\"colab-df-container\">\n",
              "    <div>\n",
              "<style scoped>\n",
              "    .dataframe tbody tr th:only-of-type {\n",
              "        vertical-align: middle;\n",
              "    }\n",
              "\n",
              "    .dataframe tbody tr th {\n",
              "        vertical-align: top;\n",
              "    }\n",
              "\n",
              "    .dataframe thead th {\n",
              "        text-align: right;\n",
              "    }\n",
              "</style>\n",
              "<table border=\"1\" class=\"dataframe\">\n",
              "  <thead>\n",
              "    <tr style=\"text-align: right;\">\n",
              "      <th></th>\n",
              "      <th>email</th>\n",
              "      <th>label</th>\n",
              "    </tr>\n",
              "  </thead>\n",
              "  <tbody>\n",
              "    <tr>\n",
              "      <th>4336</th>\n",
              "      <td>this is possible however using sa as a block c...</td>\n",
              "      <td>0</td>\n",
              "    </tr>\n",
              "    <tr>\n",
              "      <th>584</th>\n",
              "      <td>the usual crud why do morons ranting and beati...</td>\n",
              "      <td>0</td>\n",
              "    </tr>\n",
              "    <tr>\n",
              "      <th>240</th>\n",
              "      <td>near the end of his memoirs of extraordinary p...</td>\n",
              "      <td>0</td>\n",
              "    </tr>\n",
              "    <tr>\n",
              "      <th>373</th>\n",
              "      <td>on sun NUMBER sep NUMBER joseph s barrera iii ...</td>\n",
              "      <td>0</td>\n",
              "    </tr>\n",
              "    <tr>\n",
              "      <th>5207</th>\n",
              "      <td>take control of your computer with this top o...</td>\n",
              "      <td>1</td>\n",
              "    </tr>\n",
              "  </tbody>\n",
              "</table>\n",
              "</div>\n",
              "    <div class=\"colab-df-buttons\">\n",
              "\n",
              "  <div class=\"colab-df-container\">\n",
              "    <button class=\"colab-df-convert\" onclick=\"convertToInteractive('df-f15c5fed-87dc-4d55-8b7a-f4da577a45ba')\"\n",
              "            title=\"Convert this dataframe to an interactive table.\"\n",
              "            style=\"display:none;\">\n",
              "\n",
              "  <svg xmlns=\"http://www.w3.org/2000/svg\" height=\"24px\" viewBox=\"0 -960 960 960\">\n",
              "    <path d=\"M120-120v-720h720v720H120Zm60-500h600v-160H180v160Zm220 220h160v-160H400v160Zm0 220h160v-160H400v160ZM180-400h160v-160H180v160Zm440 0h160v-160H620v160ZM180-180h160v-160H180v160Zm440 0h160v-160H620v160Z\"/>\n",
              "  </svg>\n",
              "    </button>\n",
              "\n",
              "  <style>\n",
              "    .colab-df-container {\n",
              "      display:flex;\n",
              "      gap: 12px;\n",
              "    }\n",
              "\n",
              "    .colab-df-convert {\n",
              "      background-color: #E8F0FE;\n",
              "      border: none;\n",
              "      border-radius: 50%;\n",
              "      cursor: pointer;\n",
              "      display: none;\n",
              "      fill: #1967D2;\n",
              "      height: 32px;\n",
              "      padding: 0 0 0 0;\n",
              "      width: 32px;\n",
              "    }\n",
              "\n",
              "    .colab-df-convert:hover {\n",
              "      background-color: #E2EBFA;\n",
              "      box-shadow: 0px 1px 2px rgba(60, 64, 67, 0.3), 0px 1px 3px 1px rgba(60, 64, 67, 0.15);\n",
              "      fill: #174EA6;\n",
              "    }\n",
              "\n",
              "    .colab-df-buttons div {\n",
              "      margin-bottom: 4px;\n",
              "    }\n",
              "\n",
              "    [theme=dark] .colab-df-convert {\n",
              "      background-color: #3B4455;\n",
              "      fill: #D2E3FC;\n",
              "    }\n",
              "\n",
              "    [theme=dark] .colab-df-convert:hover {\n",
              "      background-color: #434B5C;\n",
              "      box-shadow: 0px 1px 3px 1px rgba(0, 0, 0, 0.15);\n",
              "      filter: drop-shadow(0px 1px 2px rgba(0, 0, 0, 0.3));\n",
              "      fill: #FFFFFF;\n",
              "    }\n",
              "  </style>\n",
              "\n",
              "    <script>\n",
              "      const buttonEl =\n",
              "        document.querySelector('#df-f15c5fed-87dc-4d55-8b7a-f4da577a45ba button.colab-df-convert');\n",
              "      buttonEl.style.display =\n",
              "        google.colab.kernel.accessAllowed ? 'block' : 'none';\n",
              "\n",
              "      async function convertToInteractive(key) {\n",
              "        const element = document.querySelector('#df-f15c5fed-87dc-4d55-8b7a-f4da577a45ba');\n",
              "        const dataTable =\n",
              "          await google.colab.kernel.invokeFunction('convertToInteractive',\n",
              "                                                    [key], {});\n",
              "        if (!dataTable) return;\n",
              "\n",
              "        const docLinkHtml = 'Like what you see? Visit the ' +\n",
              "          '<a target=\"_blank\" href=https://colab.research.google.com/notebooks/data_table.ipynb>data table notebook</a>'\n",
              "          + ' to learn more about interactive tables.';\n",
              "        element.innerHTML = '';\n",
              "        dataTable['output_type'] = 'display_data';\n",
              "        await google.colab.output.renderOutput(dataTable, element);\n",
              "        const docLink = document.createElement('div');\n",
              "        docLink.innerHTML = docLinkHtml;\n",
              "        element.appendChild(docLink);\n",
              "      }\n",
              "    </script>\n",
              "  </div>\n",
              "\n",
              "\n",
              "<div id=\"df-15ace414-3fc7-4891-be9c-6bd71e6c066f\">\n",
              "  <button class=\"colab-df-quickchart\" onclick=\"quickchart('df-15ace414-3fc7-4891-be9c-6bd71e6c066f')\"\n",
              "            title=\"Suggest charts\"\n",
              "            style=\"display:none;\">\n",
              "\n",
              "<svg xmlns=\"http://www.w3.org/2000/svg\" height=\"24px\"viewBox=\"0 0 24 24\"\n",
              "     width=\"24px\">\n",
              "    <g>\n",
              "        <path d=\"M19 3H5c-1.1 0-2 .9-2 2v14c0 1.1.9 2 2 2h14c1.1 0 2-.9 2-2V5c0-1.1-.9-2-2-2zM9 17H7v-7h2v7zm4 0h-2V7h2v10zm4 0h-2v-4h2v4z\"/>\n",
              "    </g>\n",
              "</svg>\n",
              "  </button>\n",
              "\n",
              "<style>\n",
              "  .colab-df-quickchart {\n",
              "      --bg-color: #E8F0FE;\n",
              "      --fill-color: #1967D2;\n",
              "      --hover-bg-color: #E2EBFA;\n",
              "      --hover-fill-color: #174EA6;\n",
              "      --disabled-fill-color: #AAA;\n",
              "      --disabled-bg-color: #DDD;\n",
              "  }\n",
              "\n",
              "  [theme=dark] .colab-df-quickchart {\n",
              "      --bg-color: #3B4455;\n",
              "      --fill-color: #D2E3FC;\n",
              "      --hover-bg-color: #434B5C;\n",
              "      --hover-fill-color: #FFFFFF;\n",
              "      --disabled-bg-color: #3B4455;\n",
              "      --disabled-fill-color: #666;\n",
              "  }\n",
              "\n",
              "  .colab-df-quickchart {\n",
              "    background-color: var(--bg-color);\n",
              "    border: none;\n",
              "    border-radius: 50%;\n",
              "    cursor: pointer;\n",
              "    display: none;\n",
              "    fill: var(--fill-color);\n",
              "    height: 32px;\n",
              "    padding: 0;\n",
              "    width: 32px;\n",
              "  }\n",
              "\n",
              "  .colab-df-quickchart:hover {\n",
              "    background-color: var(--hover-bg-color);\n",
              "    box-shadow: 0 1px 2px rgba(60, 64, 67, 0.3), 0 1px 3px 1px rgba(60, 64, 67, 0.15);\n",
              "    fill: var(--button-hover-fill-color);\n",
              "  }\n",
              "\n",
              "  .colab-df-quickchart-complete:disabled,\n",
              "  .colab-df-quickchart-complete:disabled:hover {\n",
              "    background-color: var(--disabled-bg-color);\n",
              "    fill: var(--disabled-fill-color);\n",
              "    box-shadow: none;\n",
              "  }\n",
              "\n",
              "  .colab-df-spinner {\n",
              "    border: 2px solid var(--fill-color);\n",
              "    border-color: transparent;\n",
              "    border-bottom-color: var(--fill-color);\n",
              "    animation:\n",
              "      spin 1s steps(1) infinite;\n",
              "  }\n",
              "\n",
              "  @keyframes spin {\n",
              "    0% {\n",
              "      border-color: transparent;\n",
              "      border-bottom-color: var(--fill-color);\n",
              "      border-left-color: var(--fill-color);\n",
              "    }\n",
              "    20% {\n",
              "      border-color: transparent;\n",
              "      border-left-color: var(--fill-color);\n",
              "      border-top-color: var(--fill-color);\n",
              "    }\n",
              "    30% {\n",
              "      border-color: transparent;\n",
              "      border-left-color: var(--fill-color);\n",
              "      border-top-color: var(--fill-color);\n",
              "      border-right-color: var(--fill-color);\n",
              "    }\n",
              "    40% {\n",
              "      border-color: transparent;\n",
              "      border-right-color: var(--fill-color);\n",
              "      border-top-color: var(--fill-color);\n",
              "    }\n",
              "    60% {\n",
              "      border-color: transparent;\n",
              "      border-right-color: var(--fill-color);\n",
              "    }\n",
              "    80% {\n",
              "      border-color: transparent;\n",
              "      border-right-color: var(--fill-color);\n",
              "      border-bottom-color: var(--fill-color);\n",
              "    }\n",
              "    90% {\n",
              "      border-color: transparent;\n",
              "      border-bottom-color: var(--fill-color);\n",
              "    }\n",
              "  }\n",
              "</style>\n",
              "\n",
              "  <script>\n",
              "    async function quickchart(key) {\n",
              "      const quickchartButtonEl =\n",
              "        document.querySelector('#' + key + ' button');\n",
              "      quickchartButtonEl.disabled = true;  // To prevent multiple clicks.\n",
              "      quickchartButtonEl.classList.add('colab-df-spinner');\n",
              "      try {\n",
              "        const charts = await google.colab.kernel.invokeFunction(\n",
              "            'suggestCharts', [key], {});\n",
              "      } catch (error) {\n",
              "        console.error('Error during call to suggestCharts:', error);\n",
              "      }\n",
              "      quickchartButtonEl.classList.remove('colab-df-spinner');\n",
              "      quickchartButtonEl.classList.add('colab-df-quickchart-complete');\n",
              "    }\n",
              "    (() => {\n",
              "      let quickchartButtonEl =\n",
              "        document.querySelector('#df-15ace414-3fc7-4891-be9c-6bd71e6c066f button');\n",
              "      quickchartButtonEl.style.display =\n",
              "        google.colab.kernel.accessAllowed ? 'block' : 'none';\n",
              "    })();\n",
              "  </script>\n",
              "</div>\n",
              "    </div>\n",
              "  </div>\n"
            ]
          },
          "metadata": {},
          "execution_count": 45
        }
      ]
    },
    {
      "cell_type": "code",
      "source": [
        "train_df.label.value_counts()"
      ],
      "metadata": {
        "colab": {
          "base_uri": "https://localhost:8080/"
        },
        "id": "ZGRAq3xuEmzP",
        "outputId": "1b6e7cfb-3dc0-468d-9384-ef65ee94d2b1"
      },
      "execution_count": null,
      "outputs": [
        {
          "output_type": "execute_result",
          "data": {
            "text/plain": [
              "0    4331\n",
              "1    1000\n",
              "Name: label, dtype: int64"
            ]
          },
          "metadata": {},
          "execution_count": 46
        }
      ]
    },
    {
      "cell_type": "code",
      "source": [
        "from sklearn.model_selection import train_test_split\n",
        "train_sentences,val_sentences,train_labels,val_labels = train_test_split(train_df_shuffled[\"email\"].to_numpy(),\n",
        "                                                                         train_df_shuffled[\"label\"].to_numpy(),\n",
        "                                                                          test_size=0.1,\n",
        "                                                                         random_state=42\n",
        "                                                                         )"
      ],
      "metadata": {
        "id": "Z9wH7Qr4EwNX"
      },
      "execution_count": null,
      "outputs": []
    },
    {
      "cell_type": "code",
      "source": [
        "train_sentences[:5]"
      ],
      "metadata": {
        "colab": {
          "base_uri": "https://localhost:8080/"
        },
        "id": "LYCAmlE_FwKo",
        "outputId": "30440ba0-e519-45c0-cf96-ddaa10e38d30"
      },
      "execution_count": null,
      "outputs": [
        {
          "output_type": "execute_result",
          "data": {
            "text/plain": [
              "array([' date fri NUMBER sep NUMBER NUMBER NUMBER NUMBER NUMBER from tony nugent tony linuxworks com au message id NUMBER gNUMBERdNUMBERqufNUMBER hobbit linuxworks com au nospam i can cut n paste from exmh s message display window into spawned gvim processes but not into anything else that s odd i cut paste between all kinds of windows exmh into mozilla xterm another wish script of mine i use for dns tasks but that one i guess is to be expected netscape when i used to use it but i suppose it and mozilla are the same codebase approx in fact i can t thing of anything it fails for that i have noticed what is an example of an anything else that it fails for for you kre _______________________________________________ exmh users mailing list exmh users URL URL ',\n",
              "       ' gary funck said i thought the perllocal pod line looked odd is it normal to write documentation into the root directory g is there some make parameter o r environment variable that should ve been set when i ran make an issue for razor folks i think it seems that by registering that i avoided the error path noted in my previo us e mail where dns net resolver was called but does not exist in my perl hierarchy here s the new output from sa ans razorNUMBER looks good question if we use spamassassin on a per user basis invoked from procmailrc will each user have to run razor admin register first is there way to register with razor just once per system if you use spamd with the h option and provide a shared directory for the razor config files to be written to rtfm for more details j ',\n",
              "       'url URL date not supplied i received some feedback in email from several of you actually regarding my earlier blog about the parents television council NUMBER which recently published a report in which they labeled buffy as the worst show on television for children let me clarify why this organization bothers me so much buffy as a show is clearly inappropriate for children under NUMBER and a game like gtaNUMBER is as well the ptc however has a clear agenda that goes beyond simply warning parents about the dangers of television shows or video games there is a belief on the part of the ptc that the hour from NUMBER NUMBERpm the first hour of primetime must be designated a family hour and that no offensive shows should air during that time i don t believe that it s the networks responsibility to restrict the kind of content aired during a particular hour of television the shows that air during primetime run the gamut some are family oriented and some aren t there is however no shortage of suitable content should parents and children wish to watch tv together during this hour it should be the parent s responsibility to police a child s television viewing if you don t want your kids watching _buffy the vampire slayer_ then don t let them but don t campaign to have the show removed from the air or shoved into a late hour that would only result in its cancellation just because you don t like its content if you don t think a show is appropriate don t let your kids watch it the ptc also seems to find shows offensive that are family oriented an example of one such show is _malcolm in the middle_ i would hardly call this show inappropriate for kids apparently the only shows that the ptc deems appropriate are those that have been sanitized to match their ultra conservative agenda even then i wouldn t really mind but the idea that all other shows must be relegated to some later hour is just ludicrous NUMBER URL ',\n",
              "       'url URL date not supplied here s a how to explaining how to blind a surveillance camera a laser pointer link NUMBER discuss NUMBER _thanks mike NUMBER _ NUMBER URL NUMBER URL NUMBER URL ',\n",
              "       'url URL date not supplied a method that could allow scientists to probe our ancestors evolution over the last NUMBER NUMBER years passes its first test '],\n",
              "      dtype=object)"
            ]
          },
          "metadata": {},
          "execution_count": 48
        }
      ]
    },
    {
      "cell_type": "code",
      "source": [
        "len(train_sentences), len(train_labels), len(val_sentences), len(val_labels)"
      ],
      "metadata": {
        "colab": {
          "base_uri": "https://localhost:8080/"
        },
        "id": "IT4Hl3lxFys6",
        "outputId": "1102f67b-2657-4a6f-d232-a4b4ceb229ef"
      },
      "execution_count": null,
      "outputs": [
        {
          "output_type": "execute_result",
          "data": {
            "text/plain": [
              "(4797, 4797, 534, 534)"
            ]
          },
          "metadata": {},
          "execution_count": 49
        }
      ]
    },
    {
      "cell_type": "code",
      "source": [
        "round(sum([len(i.split()) for i in train_sentences])/len(train_sentences))"
      ],
      "metadata": {
        "colab": {
          "base_uri": "https://localhost:8080/",
          "height": 227
        },
        "id": "kohHOnHmGzs5",
        "outputId": "24f7562c-3154-44d0-e4d9-9efed3d8f5c4"
      },
      "execution_count": null,
      "outputs": [
        {
          "output_type": "error",
          "ename": "AttributeError",
          "evalue": "ignored",
          "traceback": [
            "\u001b[0;31m---------------------------------------------------------------------------\u001b[0m",
            "\u001b[0;31mAttributeError\u001b[0m                            Traceback (most recent call last)",
            "\u001b[0;32m<ipython-input-50-3bcc0b44915e>\u001b[0m in \u001b[0;36m<cell line: 1>\u001b[0;34m()\u001b[0m\n\u001b[0;32m----> 1\u001b[0;31m \u001b[0mround\u001b[0m\u001b[0;34m(\u001b[0m\u001b[0msum\u001b[0m\u001b[0;34m(\u001b[0m\u001b[0;34m[\u001b[0m\u001b[0mlen\u001b[0m\u001b[0;34m(\u001b[0m\u001b[0mi\u001b[0m\u001b[0;34m.\u001b[0m\u001b[0msplit\u001b[0m\u001b[0;34m(\u001b[0m\u001b[0;34m)\u001b[0m\u001b[0;34m)\u001b[0m \u001b[0;32mfor\u001b[0m \u001b[0mi\u001b[0m \u001b[0;32min\u001b[0m \u001b[0mtrain_sentences\u001b[0m\u001b[0;34m]\u001b[0m\u001b[0;34m)\u001b[0m\u001b[0;34m/\u001b[0m\u001b[0mlen\u001b[0m\u001b[0;34m(\u001b[0m\u001b[0mtrain_sentences\u001b[0m\u001b[0;34m)\u001b[0m\u001b[0;34m)\u001b[0m\u001b[0;34m\u001b[0m\u001b[0;34m\u001b[0m\u001b[0m\n\u001b[0m",
            "\u001b[0;32m<ipython-input-50-3bcc0b44915e>\u001b[0m in \u001b[0;36m<listcomp>\u001b[0;34m(.0)\u001b[0m\n\u001b[0;32m----> 1\u001b[0;31m \u001b[0mround\u001b[0m\u001b[0;34m(\u001b[0m\u001b[0msum\u001b[0m\u001b[0;34m(\u001b[0m\u001b[0;34m[\u001b[0m\u001b[0mlen\u001b[0m\u001b[0;34m(\u001b[0m\u001b[0mi\u001b[0m\u001b[0;34m.\u001b[0m\u001b[0msplit\u001b[0m\u001b[0;34m(\u001b[0m\u001b[0;34m)\u001b[0m\u001b[0;34m)\u001b[0m \u001b[0;32mfor\u001b[0m \u001b[0mi\u001b[0m \u001b[0;32min\u001b[0m \u001b[0mtrain_sentences\u001b[0m\u001b[0;34m]\u001b[0m\u001b[0;34m)\u001b[0m\u001b[0;34m/\u001b[0m\u001b[0mlen\u001b[0m\u001b[0;34m(\u001b[0m\u001b[0mtrain_sentences\u001b[0m\u001b[0;34m)\u001b[0m\u001b[0;34m)\u001b[0m\u001b[0;34m\u001b[0m\u001b[0;34m\u001b[0m\u001b[0m\n\u001b[0m",
            "\u001b[0;31mAttributeError\u001b[0m: 'float' object has no attribute 'split'"
          ]
        }
      ]
    },
    {
      "cell_type": "code",
      "source": [
        "# Assuming train_sentences is a list of sentences\n",
        "# For example: train_sentences = [\"This is a sentence.\", \"Another example sentence.\", \"And one more.\", \"Yet another.\",  \"Short one.\"]\n",
        "\n",
        "# Filter out any non-string elements (e.g., floats)\n",
        "valid_sentences = [i for i in train_sentences if isinstance(i, str)]\n",
        "\n",
        "# Calculate the length of each sentence in terms of words and create a list\n",
        "sentence_lengths = [len(sentence.split()) for sentence in valid_sentences]\n",
        "\n",
        "# Sum up the lengths of all sentences\n",
        "total_word_count = sum(sentence_lengths)\n",
        "\n",
        "# Calculate the average number of words per sentence\n",
        "average_words_per_sentence = total_word_count / len(valid_sentences)\n",
        "\n",
        "# Round the result to the nearest whole number\n",
        "rounded_average = round(average_words_per_sentence)\n",
        "\n",
        "# Print or use the rounded average as needed\n",
        "print(rounded_average)\n"
      ],
      "metadata": {
        "colab": {
          "base_uri": "https://localhost:8080/"
        },
        "id": "2XQSZQNjH5of",
        "outputId": "23a6845d-6b21-45d1-b8b8-d40706ed9bf0"
      },
      "execution_count": null,
      "outputs": [
        {
          "output_type": "stream",
          "name": "stdout",
          "text": [
            "226\n"
          ]
        }
      ]
    },
    {
      "cell_type": "code",
      "source": [
        "max_vocab_length = 10000\n",
        "max_length = rounded_average"
      ],
      "metadata": {
        "id": "5PriGkjAIHY9"
      },
      "execution_count": null,
      "outputs": []
    },
    {
      "cell_type": "code",
      "source": [
        "import tensorflow as tf\n",
        "from tensorflow.keras.layers import TextVectorization\n",
        "text_vectorizer = TextVectorization(max_tokens = max_vocab_length,\n",
        "                                    standardize = \"lower_and_strip_punctuation\",\n",
        "                                    output_mode = \"int\",\n",
        "                                    output_sequence_length = max_length\n",
        "                                    )"
      ],
      "metadata": {
        "id": "nijZvMY3F-vV"
      },
      "execution_count": null,
      "outputs": []
    },
    {
      "cell_type": "code",
      "source": [
        "import numpy as np\n",
        "from tensorflow.keras.layers.experimental import preprocessing\n",
        "train_sentences = [str(sentence) for sentence in train_sentences]\n",
        "text_vectorizer.adapt(np.array(train_sentences))"
      ],
      "metadata": {
        "id": "mDWCEszDJXCV"
      },
      "execution_count": null,
      "outputs": []
    },
    {
      "cell_type": "code",
      "source": [
        "tf.random.set_seed(42)\n",
        "from tensorflow.keras import layers\n",
        "\n",
        "embedding = layers.Embedding(input_dim=max_vocab_length,\n",
        "                             output_dim=128,\n",
        "                             embeddings_initializer=\"uniform\",\n",
        "                             input_length=max_length,\n",
        "                             name=\"embedding_1\")\n",
        "\n",
        "embedding"
      ],
      "metadata": {
        "colab": {
          "base_uri": "https://localhost:8080/"
        },
        "id": "4beppg55Iggw",
        "outputId": "bd37e884-ca0b-4025-ef2b-ab8d9c29ff60"
      },
      "execution_count": null,
      "outputs": [
        {
          "output_type": "execute_result",
          "data": {
            "text/plain": [
              "<keras.src.layers.core.embedding.Embedding at 0x79a120be3b50>"
            ]
          },
          "metadata": {},
          "execution_count": 56
        }
      ]
    },
    {
      "cell_type": "code",
      "source": [
        "import tensorflow_hub as hub"
      ],
      "metadata": {
        "id": "lqSimwO6K33h"
      },
      "execution_count": null,
      "outputs": []
    },
    {
      "cell_type": "code",
      "source": [
        "sentence_encoder_layer = hub.KerasLayer(\"https://tfhub.dev/google/universal-sentence-encoder/4\",\n",
        "                                        input_shape=[],\n",
        "                                        dtype=tf.string,\n",
        "                                        trainable=False,\n",
        "                                        name=\"USE\")"
      ],
      "metadata": {
        "id": "zIE_YVJpKDgo"
      },
      "execution_count": null,
      "outputs": []
    },
    {
      "cell_type": "code",
      "source": [
        "model_0 = tf.keras.Sequential([\n",
        "    sentence_encoder_layer,\n",
        "    layers.Dense(64,activation=\"relu\"),\n",
        "    layers.Dense(1, activation=\"sigmoid\")\n",
        "],name=\"USE_model\")"
      ],
      "metadata": {
        "id": "7FNOZMX-LDeC"
      },
      "execution_count": null,
      "outputs": []
    },
    {
      "cell_type": "code",
      "source": [
        "model_0.compile(loss=\"binary_crossentropy\",\n",
        "                optimizer=tf.keras.optimizers.Adam(),\n",
        "                metrics=[\"accuracy\"])"
      ],
      "metadata": {
        "id": "NFNbxy6fLhe-"
      },
      "execution_count": null,
      "outputs": []
    },
    {
      "cell_type": "code",
      "source": [
        "model_0.summary()"
      ],
      "metadata": {
        "colab": {
          "base_uri": "https://localhost:8080/"
        },
        "id": "GIV-mIeRLmOF",
        "outputId": "b1f23f7e-a165-4066-81e1-37c42b0b8e52"
      },
      "execution_count": null,
      "outputs": [
        {
          "output_type": "stream",
          "name": "stdout",
          "text": [
            "Model: \"USE_model\"\n",
            "_________________________________________________________________\n",
            " Layer (type)                Output Shape              Param #   \n",
            "=================================================================\n",
            " USE (KerasLayer)            (None, 512)               256797824 \n",
            "                                                                 \n",
            " dense_2 (Dense)             (None, 64)                32832     \n",
            "                                                                 \n",
            " dense_3 (Dense)             (None, 1)                 65        \n",
            "                                                                 \n",
            "=================================================================\n",
            "Total params: 256830721 (979.73 MB)\n",
            "Trainable params: 32897 (128.50 KB)\n",
            "Non-trainable params: 256797824 (979.61 MB)\n",
            "_________________________________________________________________\n"
          ]
        }
      ]
    },
    {
      "cell_type": "code",
      "source": [
        "train_sentences= np.array(train_sentences)"
      ],
      "metadata": {
        "id": "d34f5zBEMPbM"
      },
      "execution_count": null,
      "outputs": []
    },
    {
      "cell_type": "code",
      "source": [
        "model_0_history = model_0.fit(train_sentences,\n",
        "                              train_labels,\n",
        "                              epochs=10,\n",
        "                              validation_data=(val_sentences, val_labels),\n",
        ")"
      ],
      "metadata": {
        "colab": {
          "base_uri": "https://localhost:8080/"
        },
        "id": "9PvNwJBhLpEe",
        "outputId": "bac843b6-ef70-4ba3-81c0-443216ef9e98"
      },
      "execution_count": null,
      "outputs": [
        {
          "output_type": "stream",
          "name": "stdout",
          "text": [
            "Epoch 1/10\n",
            "150/150 [==============================] - 18s 100ms/step - loss: 0.2508 - accuracy: 0.9110 - val_loss: 0.0870 - val_accuracy: 0.9850\n",
            "Epoch 2/10\n",
            "150/150 [==============================] - 13s 86ms/step - loss: 0.0603 - accuracy: 0.9846 - val_loss: 0.0419 - val_accuracy: 0.9888\n",
            "Epoch 3/10\n",
            "150/150 [==============================] - 12s 82ms/step - loss: 0.0360 - accuracy: 0.9894 - val_loss: 0.0291 - val_accuracy: 0.9906\n",
            "Epoch 4/10\n",
            "150/150 [==============================] - 11s 75ms/step - loss: 0.0261 - accuracy: 0.9925 - val_loss: 0.0217 - val_accuracy: 0.9944\n",
            "Epoch 5/10\n",
            "150/150 [==============================] - 12s 80ms/step - loss: 0.0199 - accuracy: 0.9952 - val_loss: 0.0178 - val_accuracy: 0.9925\n",
            "Epoch 6/10\n",
            "150/150 [==============================] - 13s 85ms/step - loss: 0.0163 - accuracy: 0.9956 - val_loss: 0.0148 - val_accuracy: 0.9963\n",
            "Epoch 7/10\n",
            "150/150 [==============================] - 14s 93ms/step - loss: 0.0129 - accuracy: 0.9973 - val_loss: 0.0133 - val_accuracy: 0.9963\n",
            "Epoch 8/10\n",
            "150/150 [==============================] - 14s 93ms/step - loss: 0.0107 - accuracy: 0.9975 - val_loss: 0.0110 - val_accuracy: 0.9981\n",
            "Epoch 9/10\n",
            "150/150 [==============================] - 12s 83ms/step - loss: 0.0085 - accuracy: 0.9985 - val_loss: 0.0094 - val_accuracy: 0.9981\n",
            "Epoch 10/10\n",
            "150/150 [==============================] - 13s 85ms/step - loss: 0.0069 - accuracy: 0.9996 - val_loss: 0.0076 - val_accuracy: 0.9981\n"
          ]
        }
      ]
    },
    {
      "cell_type": "code",
      "source": [
        "test_sample_1=[\" hyperlink hyperlink hyperlink let mortgage lenders compete for your business did you receive an email advertisement in error our goal is to only target individuals who would like to take advantage of our offers if you d like to be removed from our mailing list please click on the link below you will be removed immediately and automatically from all of our future mailings we protect all email addresses from other third parties thank you hyperlink please remove me \"]"
      ],
      "metadata": {
        "id": "D2ojfyLfNsIB"
      },
      "execution_count": null,
      "outputs": []
    },
    {
      "cell_type": "code",
      "source": [
        "val_sentences[:5]"
      ],
      "metadata": {
        "colab": {
          "base_uri": "https://localhost:8080/"
        },
        "id": "F_FuAvdPPJgW",
        "outputId": "8e5eeb07-327d-4682-e545-262881ec6d7e"
      },
      "execution_count": null,
      "outputs": [
        {
          "output_type": "execute_result",
          "data": {
            "text/plain": [
              "array([' gary lawrence murphy wrote and say hello to the cool oooo this is going to cause some stir of course not some people just don t want to be confused by the facts for anyone to fully bury global warming they would need to explain why the dramatic increase in coNUMBER concentrations are not increasing the global temperature they would also need to explain why worldwide glaciers are melting faster than they have previously in the historical record that is people need more than refutations they need a compelling alternate explanation hint climate variability doesn t cover all the bases jim ',\n",
              "       ' URL additional comments from easmith URL NUMBER NUMBER NUMBER NUMBER NUMBER i like this idea but from my reading part of my dissertation research on gas or in this case more precisely evolutionary programming since the parameters are non binary and the major operator is mutation not crossover you do need to keep in mind that the more interactions there are between different variables the better tweaked the ga ea will need to be especially to avoid local optima which may have been the problem with the suspiciously high anti ratware user_agent scores from past results what s needed are one or more of the below a determine mutational parameters by adapted scores themselves with variation on a per original score basis ideally allow for having correlated mutations in other words have a mechanism in place for trying out changes to a bunch of scores at once with them all moving about the same amount albeit possibly in different directions one means to do this is found in the evolutionary strategies of schwefel b adapt the probability of a mutation taking place depending on how well previous mutation tries have done if more than about a fifth of the new individuals are doing about as well as or better than the parental generation then mutate more parameters if less than a fifth of them are doing about as well as or better than the parental generation then mutate less parameters allen you are receiving this mail because you are the assignee for the bug or are watching the assignee this URL email is sponsored by thinkgeek welcome to geek heaven URL _______________________________________________ spamassassin devel mailing list spamassassin devel URL URL ',\n",
              "       ' public announcement the new domain names are finally available to the general public at discount prices now you can register one of the exciting new biz or info domain names as well as the original com and net names for just NUMBER NUMBER these brand new domain extensions were recently approved by icann and have the same rights as the original com and net domain names the biggest benefit is of course that the biz and info domain names are currently more available i e it will be much easier to register an attractive and easy to remember domain name for the same price visit URL today for more info register your domain name today for just NUMBER NUMBER at URL registration fees include full access to an easy to use control panel to manage your domain name in the future sincerely domain administrator affordable domains to remove your email address from further promotional mailings from this company click here URL iNUMBER ssNUMBER NUMBERysclNUMBER NUMBERqkjkNUMBERokcaNUMBER NUMBERqkybNUMBERcvmmNUMBER NUMBERuooiNUMBERtlNUMBER ',\n",
              "       'so like many young children my daughter tatum age NUMBER months really likes music she also likes to have control over her environment and this means she wants to be the one putting cds into the cd player and getting the music playing by watching tatum i ve discovered that you can learn a lot about ui design from watching NUMBER month olds use technology there is definitely a market niche for a toddler friendly cd mpNUMBER player the cd player we have combines play and pause in a single button but doesn t provide instantaneous feedback that the button was pushed instead requiring you to wait until the music starts NUMBER NUMBER seconds this is a ui disaster since tatum doesn t get feedback right away she presses the button again thereby pausing the cd before it even plays she ll only ever get music if she presses the button an odd number of times this happens a surprising amount of the time since she eventually hits the button again when the music doesn t play for toddlers pressing play must cause the music to start immediately within half a second for the toddler to get the causality and not press the button multiple times as well pressing the button multiple times shouldn t change the semantics like an elevator button no matter how many times you press the elevator still comes to that floor the play button needs to be the same the back hinged door mechanism feeding the cd into the player is also a ui disaster for tatum since the door hinges on the back tatum has to angle cds to put them in and take them out putting cds in isn t much of a problem but taking them out is since tatum grabs cds by the back edge that edge comes out first hitting the lid tatum eventually forces and wiggles the cd out a process that s hard on the cd and the player but which hasn t yet resulted in the cd player being broken surprisingly it hasn t been a problem getting the cd hole onto the spindle tatum seems to understand this concept and the cd load area geometry naturally guides the cd tatum s cd player also plays tapes and has fm radio for a toddler this is a mistake tatum doesn t understand the need to flick a switch to put the player into a specific mode she understands putting a cd in and pressing the play button she sometimes understands the buttons for advancing a song but uses them erratically as well the radio feature has both fm mono and fm stero a distinction totally lost on tatum tatum only understands the binary distinction of music no music what would the ideal toddler cd player be like it would immediately start playing a cd after it was loaded as soon as the cd load door was closed it would give some audible feedback it would have a single large play button the other typical cd controls would be larger than normal but at least half the size of the play button and located far away from the play button so there is no chance of them getting accidentally pressed on the way to play the play button would be a bright color that is different from the color of the player and different from the color of the other cd control keys the device would only play cds no other functions the cd load area would flip open at least NUMBER degrees it should be small approachable for a toddler it should be possible to repeatedly drop the player from a height of NUMBER NUMBER without affecting the player jim ',\n",
              "       ' hyperlink free the insider stock market report NUMBER value get the latest competitive intelligence insider knowledge and deal sourcing contacts to stay ahead succeed in this supercharged market free NUMBER month subscription subscribed to by over NUMBER investment bankers venture capitalists fund managers deal makers and public company ceo cfo s world market overviews and updates first seen analyst reports investment alerts portfolio strategies for the NUMBERst century annual offshore jurisdiction rankings report get the information the professionals profit from fill out the form for free subscription no credit card needed sorry to see you go but to unsubscribe from our newsletter complete the following email address please remember you must be NUMBER years of age or older your first name your last name street address city postal zip code country selectalbaniaalgeriaamerican samoaandorraangolaanguillaantarcticaantigua barbudaargentinaarmeniaarubaaustraliaaustriaazerbaijanbahamasbahrainbangladeshbarbadosbelarusbelgiumbelizebeninbermudabhutanboliviabosniabotswanabouvet islandbrazilbritish ocean territorybritish virgin islesbruneibulgariaburkina fasoburmaburundicambodiacamerooncape verdecayman islandscentral african rep chadchilechinachristmas islandcocos islandsc olombiacomoroscongocook islandscosta ricacroatiacyprusczech republicdenmarkdjiboutidominicadominican republiceast timorecuadoregyptel salvadorequatorial guineaeritreaestoniaethiopiafalkland islandsfaroe islandsfijifinlandfrancefrench guianafrench polynesiafrench southerngabongambiageorgiagermanyghanagibraltargreecegreenlan dgrenadaguadeloupeguatemalaguineaguinea bissauguyanahaitiheard mcdonald isleshondurashong konghungaryicelandindiaindonesiairelandisraelitalyivory coastjamaicajapanjordankazakhstankenyakiribatikorea southkuwaitkyrgyzstanlaoslatvialebanonlesotholiberialiechtensteinlithuanialuxembourgmacaumacedoniamadagascarmalawimalaysiamaldivesmalimaltamarshall islandsmartiniquemauritaniamauritiusmayottemexicomicronesiamoldovamonacomongoliamontserratmoroccomozambiquenamibianaurunepalnetherlandsnetherlands antillesnew caledonianew zealandnicaraguanigernigerianiuenorfolk islandnorthern mariana islandsnorwayomanpakis tanpalaupanamapapua new guineaparaguayperuphilippinespitcairn islandpolandportugalpuerto ricoqatarreunionromaniarussiarwandas georgia s sandwich islessaint kitts amp nevissaint luciasaint vincentsamoasan marinosao tome and principesaudi arabiasenegalseychellessierra leonesingaporeslovakiasloveniasomaliasouth africaspainsri lankas t helenast pierre and miquelonsurinamesvalbardswazilandswedenswitzerlandtaiwantajikistantanzaniathailandtogotokelautongatrinidad and tobagotunisiaturkeyturkmenistanturks and caicos islandstuvaluu s minor outlying islandsugandaukraineunited arab emiratesunited kingdomuruguayuzbekistanvanuatuvatican cityvenezuelavietnamvirgin islandswallis and futuna islandsw estern saharayemenyugoslavia former zairezambiazimbabwetelephone mobile work fax email address required fields v '],\n",
              "      dtype=object)"
            ]
          },
          "metadata": {},
          "execution_count": 65
        }
      ]
    },
    {
      "cell_type": "code",
      "source": [
        "test_sample=[\"with all due respect you are fired\"]"
      ],
      "metadata": {
        "id": "ANkfjA2MPEVw"
      },
      "execution_count": null,
      "outputs": []
    },
    {
      "cell_type": "code",
      "source": [
        "pred_prob = tf.squeeze(model_0.predict([test_sample]))\n",
        "pred = tf.round(pred_prob)"
      ],
      "metadata": {
        "colab": {
          "base_uri": "https://localhost:8080/"
        },
        "id": "xahJbuAnOdql",
        "outputId": "620685c9-3511-4886-cd6c-7369c4def0d3"
      },
      "execution_count": null,
      "outputs": [
        {
          "output_type": "stream",
          "name": "stdout",
          "text": [
            "1/1 [==============================] - 0s 54ms/step\n"
          ]
        }
      ]
    },
    {
      "cell_type": "code",
      "source": [
        "if pred==1:\n",
        "  print(\"It is a spam\")\n",
        "else:\n",
        "  print(\"Not a spam\")"
      ],
      "metadata": {
        "colab": {
          "base_uri": "https://localhost:8080/"
        },
        "id": "QTuW9cxMOnQ-",
        "outputId": "f7fab770-c3a7-47e1-f96a-04d9fa545c60"
      },
      "execution_count": null,
      "outputs": [
        {
          "output_type": "stream",
          "name": "stdout",
          "text": [
            "Not a spam\n"
          ]
        }
      ]
    },
    {
      "cell_type": "code",
      "source": [
        "train_df.label.value_counts()"
      ],
      "metadata": {
        "id": "Hl0OhxnvOqvh",
        "colab": {
          "base_uri": "https://localhost:8080/"
        },
        "outputId": "5fa9f234-fad5-4bef-8a49-e5d3651efa3b"
      },
      "execution_count": null,
      "outputs": [
        {
          "output_type": "execute_result",
          "data": {
            "text/plain": [
              "0    4331\n",
              "1    1000\n",
              "Name: label, dtype: int64"
            ]
          },
          "metadata": {},
          "execution_count": 71
        }
      ]
    }
  ]
}